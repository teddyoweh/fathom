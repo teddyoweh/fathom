{
 "cells": [
  {
   "cell_type": "code",
   "execution_count": 18,
   "metadata": {},
   "outputs": [],
   "source": [
    "import requests\n",
    "from bs4 import BeautifulSoup\n",
    "url = \"https://www.linkedin.com/in/teddyoweh/recent-activity/all/\"\n",
    "headers = {\n",
    "    \"authority\": \"www.linkedin.com\",\n",
    "    \"method\": \"GET\",\n",
    "    \"scheme\": \"https\",\n",
    "    \"Accept\": \"text/html,application/xhtml+xml,application/xml;q=0.9,image/avif,image/webp,image/apng,*/*;q=0.8,application/signed-exchange;v=b3;q=0.7\",\n",
    "    \"Accept-Encoding\": \"gzip, deflate, br\",\n",
    "    \"Accept-Language\": \"en-US,en;q=0.9\",\n",
    "    \"Cache-Control\": \"max-age=0\",\n",
    "    \"Sec-Fetch-Dest\": \"document\",\n",
    "    \"Sec-Fetch-Mode\": \"navigate\",\n",
    "    \"Sec-Fetch-Site\": \"same-origin\",\n",
    "    \"Sec-Fetch-User\": \"?1\",\n",
    "    \"upgrade-insecure-requests\": \"1\",\n",
    "    \"User-Agent\": \"Mozilla/5.0 (Macintosh; Intel Mac OS X 10_15_7) AppleWebKit/537.36 (KHTML, like Gecko) Chrome/112.0.0.0 Safari/537.36\",\n",
    "    \"Cookie\": open(\"cok.txt\").read()\n",
    "}\n",
    "\n",
    " \n",
    "response = requests.get(url, headers=headers, verify=True)\n",
    "soup = BeautifulSoup(response.content, 'html.parser')\n",
    "code_tags = soup.find_all('code')\n",
    " \n",
    "    "
   ]
  },
  {
   "cell_type": "code",
   "execution_count": 19,
   "metadata": {},
   "outputs": [
    {
     "data": {
      "text/plain": [
       "200"
      ]
     },
     "execution_count": 19,
     "metadata": {},
     "output_type": "execute_result"
    }
   ],
   "source": [
    "response.status_code\n"
   ]
  },
  {
   "cell_type": "code",
   "execution_count": null,
   "metadata": {},
   "outputs": [],
   "source": [
    "data =soup.find('div',class_='scaffold-finite-scroll__content').find('ul').find_all('li',class_='profile-creator-shared-feed-update__container')"
   ]
  },
  {
   "cell_type": "code",
   "execution_count": null,
   "metadata": {},
   "outputs": [],
   "source": [
    "post =data[0].find('div',id='fie-impression-container')\n",
    "post.find('span', class_='update-components-actor__name').text.strip()\n"
   ]
  },
  {
   "cell_type": "code",
   "execution_count": null,
   "metadata": {},
   "outputs": [],
   "source": [
    "data[3]"
   ]
  },
  {
   "cell_type": "code",
   "execution_count": 6,
   "metadata": {},
   "outputs": [
    {
     "ename": "NameError",
     "evalue": "name 'post' is not defined",
     "output_type": "error",
     "traceback": [
      "\u001b[0;31m---------------------------------------------------------------------------\u001b[0m",
      "\u001b[0;31mNameError\u001b[0m                                 Traceback (most recent call last)",
      "Cell \u001b[0;32mIn[6], line 1\u001b[0m\n\u001b[0;32m----> 1\u001b[0m poster_name \u001b[38;5;241m=\u001b[39m \u001b[43mpost\u001b[49m\u001b[38;5;241m.\u001b[39mfind(\u001b[38;5;124m'\u001b[39m\u001b[38;5;124mspan\u001b[39m\u001b[38;5;124m'\u001b[39m, class_\u001b[38;5;241m=\u001b[39m\u001b[38;5;124m'\u001b[39m\u001b[38;5;124mupdate-components-actor__name\u001b[39m\u001b[38;5;124m'\u001b[39m)\u001b[38;5;241m.\u001b[39mtext\u001b[38;5;241m.\u001b[39mstrip()\n\u001b[1;32m      2\u001b[0m poster_name\n",
      "\u001b[0;31mNameError\u001b[0m: name 'post' is not defined"
     ]
    }
   ],
   "source": [
    "poster_name = post.find('span', class_='update-components-actor__name').text.strip()\n",
    "poster_name"
   ]
  },
  {
   "cell_type": "code",
   "execution_count": null,
   "metadata": {},
   "outputs": [],
   "source": [
    "def extract_post_data(soup):\n",
    "    data =soup.find('div',class_='scaffold-finite-scroll__content').find('ul').find_all('li',class_='profile-creator-shared-feed-update__container')    \n",
    "    print(len(data))\n",
    "    posts = []\n",
    "    for x in range(len(data)):\n",
    "        try:\n",
    "            item =data[x].find('div',id='fie-impression-container')\n",
    "            post = {}\n",
    "        \n",
    "            post['poster_name'] = item.find('span', class_='update-components-actor__name').text.strip()\n",
    "            post['post_text'] = item.find('div', class_='update-components-text relative update-components-update-v2__commentary').text.strip()\n",
    "            post['date'] = item.find('span', class_='update-components-actor__sub-description').text.strip()\n",
    "            post['images'] = []\n",
    "            image_links = item.find_all('img', class_='ivm-view-attr__img--centered')\n",
    "            for image in image_links:\n",
    "                post['images'].append(image['src'])\n",
    "            \n",
    "            posts.append(post)\n",
    "        except:\n",
    "            pass\n",
    "    return posts        \n",
    "pxx =extract_post_data(soup)\n"
   ]
  },
  {
   "cell_type": "code",
   "execution_count": null,
   "metadata": {},
   "outputs": [],
   "source": [
    "pxx"
   ]
  },
  {
   "cell_type": "code",
   "execution_count": null,
   "metadata": {},
   "outputs": [],
   "source": [
    "data[1]"
   ]
  },
  {
   "cell_type": "code",
   "execution_count": null,
   "metadata": {},
   "outputs": [],
   "source": [
    "api_key = \"sk-proj-9nfIAOPBmcB102QxQlgpT3BlbkFJSmzfpZdBqdK2Ni4Ga42q\"\n",
    "from openai import OpenAI\n",
    "\n",
    "def generate_pitch(posts, business_description):\n",
    "    client = OpenAI(api_key=api_key)\n",
    "\n",
    "    # Concatenate all post texts\n",
    "    post_texts = [post['post_text'] for post in posts]\n",
    "    all_posts_text = ' '.join(post_texts)\n",
    "\n",
    " \n",
    "    images = [image for post in posts for image in post.get('images', [])]\n",
    "    \n",
    " \n",
    "    response = client.chat.completions.create(\n",
    "        model=\"gpt-4o\",\n",
    "        messages=[\n",
    "            {\n",
    "                \"role\": \"system\",\n",
    "                \"content\": f\"write a fucking authentic,   pitch to the user on this,{business_description}: keep it fucking concise, sound realistic as fuck and have just fucking insane charisma\"\n",
    "            },\n",
    "            {\n",
    "                \"role\": \"user\",\n",
    "                \"content\": [\n",
    "                                   {\"type\": \"text\", \"text\": \"use his previous posts on linkedlin here as content\"},\n",
    "                      {\"type\": \"text\", \"text\": str(post_texts)},\n",
    "                                                         {\"type\": \"text\", \"text\": \"do not sound like a fucking ai\"},\n",
    "\n",
    "                ]+[\n",
    "                     {\n",
    "          \"type\": \"image_url\",\n",
    "          \"image_url\": {\n",
    "            \"url\": urlx,\n",
    "          },\n",
    "        } for urlx in images\n",
    "                ]\n",
    "            },\n",
    "           \n",
    "        ],\n",
    "        max_tokens=300,\n",
    "    )\n",
    "\n",
    "    return response.choices[0].message.content\n",
    "\n",
    " \n",
    " \n",
    "business_description = \"saas business that improves product managers productivity\"\n",
    "pitch = generate_pitch(pxx, business_description)\n",
    "open('pitch.txt','w').write(pitch)"
   ]
  },
  {
   "cell_type": "code",
   "execution_count": null,
   "metadata": {},
   "outputs": [],
   "source": []
  }
 ],
 "metadata": {
  "kernelspec": {
   "display_name": "base",
   "language": "python",
   "name": "python3"
  },
  "language_info": {
   "codemirror_mode": {
    "name": "ipython",
    "version": 3
   },
   "file_extension": ".py",
   "mimetype": "text/x-python",
   "name": "python",
   "nbconvert_exporter": "python",
   "pygments_lexer": "ipython3",
   "version": "3.12.2"
  }
 },
 "nbformat": 4,
 "nbformat_minor": 2
}
