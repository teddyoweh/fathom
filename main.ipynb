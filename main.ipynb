{
 "cells": [
  {
   "cell_type": "code",
   "execution_count": 1,
   "metadata": {},
   "outputs": [],
   "source": [
    "from api import clutch"
   ]
  },
  {
   "cell_type": "code",
   "execution_count": 3,
   "metadata": {},
   "outputs": [],
   "source": [
    "driver = clutch()\n",
    "clutch = driver.get_profile_data(\"https://www.linkedin.com/in/teddyoweh/\")"
   ]
  },
  {
   "cell_type": "code",
   "execution_count": null,
   "metadata": {},
   "outputs": [],
   "source": [
    "from selenium import webdriver\n",
    "from selenium.webdriver.common.by import By\n",
    "from selenium.webdriver.chrome.service import Service\n",
    "from selenium.webdriver.chrome.options import Options\n",
    "from bs4 import BeautifulSoup\n",
    "import time\n",
    "from selenium_stealth import stealth\n",
    "\n",
    "\n",
    "def parse_cookies(cookie_string):\n",
    "    cookies = []\n",
    "    for cookie in cookie_string.split(\"; \"):\n",
    "        name, value = cookie.split(\"=\", 1)\n",
    "        cookies.append({\"name\": name, \"value\": value})\n",
    "    return cookies\n",
    "\n",
    "\n"
   ]
  },
  {
   "cell_type": "code",
   "execution_count": null,
   "metadata": {},
   "outputs": [],
   "source": [
    "cookies = parse_cookies(open('cok.txt','r').read())"
   ]
  },
  {
   "cell_type": "code",
   "execution_count": null,
   "metadata": {},
   "outputs": [],
   "source": [
    "\n",
    "\n",
    "options = webdriver.ChromeOptions()\n",
    "options.add_argument(\"start-maximized\")\n",
    "options.add_experimental_option(\"excludeSwitches\", [\"enable-automation\"])\n",
    "options.add_experimental_option('useAutomationExtension', False)\n",
    "#options.add_argument('--headless')\n",
    "driver = webdriver.Chrome(options=options)\n",
    "stealth(driver,\n",
    "        languages=[\"en-US\", \"en\"],\n",
    "        vendor=\"Google Inc.\",\n",
    "        platform=\"Win32\",\n",
    "        webgl_vendor=\"Intel Inc.\",\n",
    "        renderer=\"Intel Iris OpenGL Engine\",\n",
    "        fix_hairline=True,\n",
    "        )\n",
    "driver.get(\"https://www.linkedin.com\")\n",
    "time.sleep(2)\n",
    "\n",
    "\n",
    "\n",
    "\n",
    "for cookie in cookies:\n",
    "    driver.add_cookie(cookie)\n",
    "driver.refresh()\n",
    "\n",
    "url = \"https://www.linkedin.com/in/teddyoweh/\"\n",
    "driver.get(url)\n",
    "\n",
    "\n",
    "time.sleep(7)\n",
    "\n",
    "name = driver.find_element(By.CSS_SELECTOR, \"a.zVGBVPhdCZiSdHsTvzRoEEhxfyZThxatURrg\")\n",
    "bio = driver.find_element(By.CSS_SELECTOR, \"div.text-body-medium\")\n",
    "print(name.text,bio.text)\n",
    "\n",
    "url = driver.get(\"https://www.linkedin.com/in/teddyoweh/overlay/contact-info/\")\n",
    "#websites = driver.find_elements(By.CSS_SELECTOR, \"a.pv-contact-info__contact-link\")\n",
    "\n",
    "print(websites[0].text)\n",
    "    \n",
    "\n",
    " \n",
    "\n"
   ]
  },
  {
   "cell_type": "code",
   "execution_count": null,
   "metadata": {},
   "outputs": [],
   "source": []
  },
  {
   "cell_type": "code",
   "execution_count": null,
   "metadata": {},
   "outputs": [],
   "source": []
  }
 ],
 "metadata": {
  "kernelspec": {
   "display_name": "base",
   "language": "python",
   "name": "python3"
  },
  "language_info": {
   "codemirror_mode": {
    "name": "ipython",
    "version": 3
   },
   "file_extension": ".py",
   "mimetype": "text/x-python",
   "name": "python",
   "nbconvert_exporter": "python",
   "pygments_lexer": "ipython3",
   "version": "3.12.2"
  }
 },
 "nbformat": 4,
 "nbformat_minor": 2
}
